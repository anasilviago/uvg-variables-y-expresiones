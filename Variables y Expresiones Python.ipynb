{
 "cells": [
  {
   "cell_type": "markdown",
   "metadata": {},
   "source": [
    "# Variables"
   ]
  },
  {
   "cell_type": "markdown",
   "metadata": {},
   "source": [
    "Una de las características más importantes que tiene Python es el uso de las variables.\n",
    "\n",
    "Una variable es un nombre que hace referencia a un valor que nosotros definimos y luego podemos manipularlo.\n",
    "\n",
    "Para poder guardar un valor en una variable debemos hacer una asignación como lo vemos en el siguiente ejemplo."
   ]
  },
  {
   "cell_type": "code",
   "execution_count": null,
   "metadata": {},
   "outputs": [],
   "source": [
    "primera_variable = \"Estoy aprendiendo Python\""
   ]
  },
  {
   "cell_type": "markdown",
   "metadata": {},
   "source": [
    "*\"primera_variable\"* es el nombre de la variable que estoy creando y lo que va después del signo igual es el valor que tendrá la variable. En este ejemplo estamos creando una variable de tipo *string* ya que estamos almacenando un texto.\n",
    "\n",
    "Hay más tipos de variables, en este ejercicio estaremos utilizando *integers*, *strings* y *floats*.\n",
    "\n",
    "*\"horas_en_el_dia\"* es una variable *integer* o *entera*.\n",
    "\n",
    "La variable *\"pi\"* es un número decimal lo que significa que es tipo *float* o *real*."
   ]
  },
  {
   "cell_type": "code",
   "execution_count": null,
   "metadata": {},
   "outputs": [],
   "source": [
    "horas_en_el_dia = 24\n",
    "pi = 3.141592"
   ]
  },
  {
   "cell_type": "markdown",
   "metadata": {},
   "source": [
    "Para poder saber el tipo de variable puedo utilizar la instrucción \"type\"."
   ]
  },
  {
   "cell_type": "code",
   "execution_count": null,
   "metadata": {},
   "outputs": [],
   "source": [
    "type(horas_en_el_dia)"
   ]
  },
  {
   "cell_type": "code",
   "execution_count": null,
   "metadata": {},
   "outputs": [],
   "source": [
    "type(pi)"
   ]
  },
  {
   "cell_type": "code",
   "execution_count": null,
   "metadata": {},
   "outputs": [],
   "source": [
    "type(primera_variable)"
   ]
  },
  {
   "cell_type": "markdown",
   "metadata": {},
   "source": [
    "A la hora de nombrar una variable debemos tener como objetivo que el nombre de la variable sea representativo, de esta manera siempre sabremos para qué estamos utilizando la variable. Python posee una lista de palabras reservadas las cuales no pueden ser utilizadas como nombres de variables. Al asignar un valor a una palabra reservada, mi programa mostrará un error al momento de ser ejecutado. Podemos ver algunas palabras reservadas en el siguiente ejemplo."
   ]
  },
  {
   "cell_type": "code",
   "execution_count": null,
   "metadata": {},
   "outputs": [],
   "source": [
    "del = 5\n",
    "class = \"Algoritmos y programacion basica\""
   ]
  },
  {
   "cell_type": "markdown",
   "metadata": {},
   "source": [
    "Con la instrucción *print* podemos mostrar el valor que posee una variable, en el siguiente ejemplo mostraremos el valor que posee la variable pi."
   ]
  },
  {
   "cell_type": "code",
   "execution_count": null,
   "metadata": {},
   "outputs": [],
   "source": [
    "print(pi)"
   ]
  },
  {
   "cell_type": "markdown",
   "metadata": {},
   "source": [
    "Las variables pueden ser modificadas después de haber sido asignadas. En Python, una variable puede guardar un nuevo valor diferente al que había sido guardado originalmente."
   ]
  },
  {
   "cell_type": "code",
   "execution_count": null,
   "metadata": {},
   "outputs": [],
   "source": [
    "pi = \"el valor de pi\"\n",
    "print(pi)"
   ]
  },
  {
   "cell_type": "markdown",
   "metadata": {},
   "source": [
    "# Expresiones"
   ]
  },
  {
   "cell_type": "markdown",
   "metadata": {},
   "source": [
    "Una expresión es el conjunto de código que Python puede ejecutar. Aquí podemos observar 4 expresiones diferentes."
   ]
  },
  {
   "cell_type": "code",
   "execution_count": null,
   "metadata": {},
   "outputs": [],
   "source": [
    "pi = 3.141592\n",
    "print(pi)\n",
    "3+5\n",
    "print(\"hola\")"
   ]
  },
  {
   "cell_type": "markdown",
   "metadata": {},
   "source": [
    "Las expresiones también pueden ser operaciones y en las operaciones podemos utilizar variables que ya tengan asignado un valor."
   ]
  },
  {
   "cell_type": "code",
   "execution_count": null,
   "metadata": {},
   "outputs": [],
   "source": [
    "pi_cuadrado = pi * pi\n",
    "print(pi_cuadrado)"
   ]
  },
  {
   "cell_type": "markdown",
   "metadata": {},
   "source": [
    "Podemos hacer operaciones aritméticas utilizando los siguientes operadores:\n",
    "\n",
    "\\* Multiplicación\n",
    "\n",
    "/ División\n",
    "\n",
    "\\+ Suma\n",
    "\n",
    "\\- Resta\n",
    "\n",
    "\\*\\* Potencia\n",
    "\n",
    "% Módulo\n",
    "\n",
    "Probablemente el operando módulo sea nuevo para ustedes. Al hacer el módulo de un número el resultado que tendremos es el residuo de la resta, por ejemplo, 5 % 2 nos dará como resultado 1-"
   ]
  },
  {
   "cell_type": "code",
   "execution_count": null,
   "metadata": {},
   "outputs": [],
   "source": [
    "multiplica = 2 * pi\n",
    "print(\"Resultado de la multiplicacion\", multiplica)\n",
    "\n",
    "division = (3/pi)\n",
    "print(\"Resultado de la division\", division)\n",
    "\n",
    "suma = (pi + 3)\n",
    "print(\"Resultado de la suma\", suma)\n",
    "\n",
    "resta = pi - 5\n",
    "print(\"Resultado de la resta\", resta)\n",
    "\n",
    "potencia = pi**5\n",
    "print(\"Resultado de la potencia\", potencia)\n",
    "\n",
    "modulo = 10 % 4\n",
    "print(\"Resultado del módulo\", modulo)"
   ]
  },
  {
   "cell_type": "markdown",
   "metadata": {},
   "source": [
    "Es muy importante prestar atención al tipo de dato que estamos utilizando en una operación. Si operamos dos datos tipo *float* e *integer*, el resultado será un dato tipo *float*. Sin embargo, cuando mezclamos los tipo *string* tendremos resultados diferentes."
   ]
  },
  {
   "cell_type": "code",
   "execution_count": null,
   "metadata": {},
   "outputs": [],
   "source": [
    "print(\"Una multiplicacion entre un int y un float\")\n",
    "print(2.5*2)\n",
    "print(\"Multiplicacion de un integer con un string\")\n",
    "print(\"Frase que se repite\" * 3)\n",
    "print(\"La sumatoria de 2 strings\")\n",
    "print(\"Primera parte de la frase. \" + \"Segunda parte\")"
   ]
  },
  {
   "cell_type": "markdown",
   "metadata": {},
   "source": [
    "Aunque podamos multiplicar un *integer* con un *string*, no significa que lo podamos hacer entre un *float* y un *string*."
   ]
  },
  {
   "cell_type": "code",
   "execution_count": null,
   "metadata": {},
   "outputs": [],
   "source": [
    "2.0 * \"esto dara un error\""
   ]
  },
  {
   "cell_type": "markdown",
   "metadata": {},
   "source": [
    "En el espacio que encuentra abajo, modofique el código para que en la variable *\"frase_completa\"* se guarde el valor \"No molestar. Genio malvado trabajando\" que se encuentra en las variables \"*frase1\"* y *\"frase2\"*. Imprima la frase completa, verificando que exista un espacio entre el punto y la siguiente parte de la frase."
   ]
  },
  {
   "cell_type": "code",
   "execution_count": null,
   "metadata": {},
   "outputs": [],
   "source": [
    "frase1 = No molestar.\n",
    "frase2 = Genio malvado trabajando\n",
    "frase_completa =\n",
    "print(frase_completa)"
   ]
  },
  {
   "cell_type": "markdown",
   "metadata": {},
   "source": [
    "Una expresión que nos permite obtener valores de manera más interactiva con el usuario es *input*. La expresión input le permite al usuario ingresar un valor y nosotros lo podemos almacenar en una variable."
   ]
  },
  {
   "cell_type": "code",
   "execution_count": null,
   "metadata": {},
   "outputs": [],
   "source": [
    "nombre_usuario = input(\"Ingrese su nombre\")\n",
    "print(nombre_usuario)"
   ]
  },
  {
   "cell_type": "markdown",
   "metadata": {},
   "source": [
    "La última expresión que estaremos utilizando en este ejercicio es *if*. Esta expresión nos permite evaluar si una condición se cumple y realizar diferentes acciones dependiendo del resultado."
   ]
  },
  {
   "cell_type": "code",
   "execution_count": null,
   "metadata": {},
   "outputs": [],
   "source": [
    "esta_lloviendo = input(\"Esta lloviendo en su casa? Responda si, no, o tal vez\")\n",
    "if(esta_lloviendo == \"si\"):\n",
    "    print(\"Entre la ropa!!\")\n",
    "elif(esta_lloviendo == \"no\"):\n",
    "    print(\"Tranquil@, la ropa se puede seguir secando en el lazo\")\n",
    "else:\n",
    "    print(\"Deberia de chequear el clima para que no se moje su ropa\")"
   ]
  },
  {
   "cell_type": "markdown",
   "metadata": {},
   "source": [
    "La expresión *elif* siempre debe de ir después de un *if* y lo que nos permite hacer es evaluar una segunda opción en caso la primera condición definida en el *if* no se cumple. Podemos tener tantos *elif* como nos sea necesario. Recordemos que no es necesario utilizar siempre una expresión *elif* ni *else* después de un *if*."
   ]
  },
  {
   "cell_type": "markdown",
   "metadata": {},
   "source": [
    "En el siguiente espacio, modifique el código para solicitar 2 números (numero_a, numero_b) al usuario, e indicar si numero_b es divisor de numero_a. *Recuerde que para que un numero sea divisor de otro el rsiduo de la division entre ellos tiene que ser igual a 0.*"
   ]
  },
  {
   "cell_type": "code",
   "execution_count": null,
   "metadata": {},
   "outputs": [],
   "source": [
    "numero_a =\n",
    "numero_b ="
   ]
  }
 ],
 "metadata": {
  "kernelspec": {
   "display_name": "Python 3",
   "language": "python",
   "name": "python3"
  },
  "language_info": {
   "codemirror_mode": {
    "name": "ipython",
    "version": 3
   },
   "file_extension": ".py",
   "mimetype": "text/x-python",
   "name": "python",
   "nbconvert_exporter": "python",
   "pygments_lexer": "ipython3",
   "version": "3.6.5"
  }
 },
 "nbformat": 4,
 "nbformat_minor": 2
}
